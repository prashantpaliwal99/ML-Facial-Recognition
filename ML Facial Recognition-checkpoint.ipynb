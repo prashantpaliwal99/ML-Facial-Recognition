{
 "cells": [
  {
   "cell_type": "code",
   "execution_count": 1,
   "metadata": {},
   "outputs": [
    {
     "ename": "ModuleNotFoundError",
     "evalue": "No module named 'cv2'",
     "output_type": "error",
     "traceback": [
      "\u001b[1;31m---------------------------------------------------------------------------\u001b[0m",
      "\u001b[1;31mModuleNotFoundError\u001b[0m                       Traceback (most recent call last)",
      "\u001b[1;32m<ipython-input-1-c9c1c045187c>\u001b[0m in \u001b[0;36m<module>\u001b[1;34m()\u001b[0m\n\u001b[0;32m      1\u001b[0m \u001b[1;32mimport\u001b[0m \u001b[0mnumpy\u001b[0m \u001b[1;32mas\u001b[0m \u001b[0mnp\u001b[0m\u001b[1;33m\u001b[0m\u001b[0m\n\u001b[1;32m----> 2\u001b[1;33m \u001b[1;32mimport\u001b[0m \u001b[0mcv2\u001b[0m\u001b[1;33m\u001b[0m\u001b[0m\n\u001b[0m\u001b[0;32m      3\u001b[0m \u001b[1;33m\u001b[0m\u001b[0m\n\u001b[0;32m      4\u001b[0m \u001b[0mcam\u001b[0m\u001b[1;33m=\u001b[0m\u001b[0mcv2\u001b[0m\u001b[1;33m.\u001b[0m\u001b[0mVideoCapture\u001b[0m\u001b[1;33m(\u001b[0m\u001b[1;36m0\u001b[0m\u001b[1;33m)\u001b[0m\u001b[1;33m\u001b[0m\u001b[0m\n\u001b[0;32m      5\u001b[0m \u001b[0mfacec\u001b[0m\u001b[1;33m=\u001b[0m\u001b[0mcv2\u001b[0m\u001b[1;33m.\u001b[0m\u001b[0mCascadeClassifier\u001b[0m\u001b[1;33m(\u001b[0m\u001b[1;34m'haarcascade_frontalface_default.xml'\u001b[0m\u001b[1;33m)\u001b[0m\u001b[1;33m\u001b[0m\u001b[0m\n",
      "\u001b[1;31mModuleNotFoundError\u001b[0m: No module named 'cv2'"
     ]
    }
   ],
   "source": [
    "import numpy as np\n",
    "import cv2\n",
    "\n",
    "cam=cv2.VideoCapture(0)\n",
    "facec=cv2.CascadeClassifier('haarcascade_frontalface_default.xml')\n",
    "font = cv2.FONT_HERSHEY_SIMPLEX\n",
    "\n",
    "# Load data in train (X and y)\n",
    "\n",
    "f_01 = np.load('face01.npy').reshape((20, -1))\n",
    "f_02 = np.load('face04.npy').reshape((20, -1))\n",
    "f_03 = np.load('face03.npy').reshape((20, -1))\n",
    "\n",
    "data = np.concatenate((f_01, f_02,f_03))\n",
    "labels =  np.zeros((data.shape[0],))\n",
    "\n",
    "labels[20:40] = 1.0\n",
    "labels[40:] = 2.0\n",
    "\n",
    "names = {\n",
    "\t0: 'Rajat',\n",
    "\t1: 'Rishabh',\n",
    "\t2: 'Jatin'\n",
    "}\n",
    "\n",
    "# Define KNN functions\n",
    "\n",
    "def distance(x1, x2):\n",
    "\td = np.sqrt(((x1-x2)**2).sum())\n",
    "\treturn d\n",
    "\n",
    "def knn(X_train, y_train, xt, k=5):\n",
    "\tvals = []\n",
    "\tfor ix in range(X_train.shape[0]):\n",
    "\t\td = distance(X_train[ix], xt)\n",
    "\t\tvals.append([d, y_train[ix]])\n",
    "\tsorted_labels = sorted(vals, key=lambda z: z[0])\n",
    "\tneighbours = np.asarray(sorted_labels)[:k, -1]\n",
    "\t\n",
    "\tfreq = np.unique(neighbours, return_counts=True)\n",
    "\t\n",
    "\treturn freq[0][freq[1].argmax()]\n",
    "\n",
    "# Run the main loop\n",
    "\n",
    "\n",
    "\n",
    "\n",
    "\n",
    "while True:\n",
    "    ret,fr=cam.read()\n",
    "    if ret == True:\n",
    "        gray= cv2.cvtColor(fr,cv2.COLOR_BGR2GRAY)  #bgr bcz it bydefault loads image in bgr format instead of rgb\n",
    "        faces=facec.detectMultiScale(gray,1.3,5)\n",
    "\n",
    "\n",
    "        \n",
    "        for (x,y,w,h) in faces:\n",
    "            # Extract detected face\n",
    "\n",
    "                fc=fr[y:y+h,x:x+w,:]  #bcz here rows are on the y axis that's why we use y first then x for image processing\n",
    "                # resize to a fixed shape\n",
    "                r = cv2.resize(fc,(50,50)).flatten()  #here x is the no of colums then rows\n",
    "                text = names[int(knn(data, labels, r))]\n",
    "                cv2.putText(fr, text, (x, y), font, 1, (255, 255, 0), 2)\n",
    "                cv2.rectangle(fr,(x,y),(x+w,y+w),(0,0,255),2)  #image values are of int always bcz of pixel move from 0 to 255\n",
    "        \n",
    "\n",
    "        cv2.imshow('frame',fr)\n",
    "        if cv2.waitKey(1)==27 :\n",
    "            break\n",
    "    else:\n",
    "        print (\"error\")\n",
    "        break\n",
    "    \n",
    "cv2.destroyAllWindows()"
   ]
  },
  {
   "cell_type": "code",
   "execution_count": null,
   "metadata": {},
   "outputs": [],
   "source": []
  }
 ],
 "metadata": {
  "kernelspec": {
   "display_name": "Python 3",
   "language": "python",
   "name": "python3"
  },
  "language_info": {
   "codemirror_mode": {
    "name": "ipython",
    "version": 3
   },
   "file_extension": ".py",
   "mimetype": "text/x-python",
   "name": "python",
   "nbconvert_exporter": "python",
   "pygments_lexer": "ipython3",
   "version": "3.6.5"
  }
 },
 "nbformat": 4,
 "nbformat_minor": 2
}
