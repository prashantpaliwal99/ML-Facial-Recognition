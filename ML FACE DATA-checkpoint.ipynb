{
 "cells": [
  {
   "cell_type": "code",
   "execution_count": 1,
   "metadata": {},
   "outputs": [
    {
     "ename": "ModuleNotFoundError",
     "evalue": "No module named 'cv2'",
     "output_type": "error",
     "traceback": [
      "\u001b[1;31m---------------------------------------------------------------------------\u001b[0m",
      "\u001b[1;31mModuleNotFoundError\u001b[0m                       Traceback (most recent call last)",
      "\u001b[1;32m<ipython-input-1-79c9375d135a>\u001b[0m in \u001b[0;36m<module>\u001b[1;34m()\u001b[0m\n\u001b[0;32m      1\u001b[0m \u001b[1;32mimport\u001b[0m \u001b[0mnumpy\u001b[0m \u001b[1;32mas\u001b[0m \u001b[0mnp\u001b[0m\u001b[1;33m\u001b[0m\u001b[0m\n\u001b[1;32m----> 2\u001b[1;33m \u001b[1;32mimport\u001b[0m \u001b[0mcv2\u001b[0m\u001b[1;33m\u001b[0m\u001b[0m\n\u001b[0m\u001b[0;32m      3\u001b[0m \u001b[1;33m\u001b[0m\u001b[0m\n\u001b[0;32m      4\u001b[0m \u001b[0mcam\u001b[0m\u001b[1;33m=\u001b[0m\u001b[0mcv2\u001b[0m\u001b[1;33m.\u001b[0m\u001b[0mVideoCapture\u001b[0m\u001b[1;33m(\u001b[0m\u001b[1;36m0\u001b[0m\u001b[1;33m)\u001b[0m\u001b[1;33m\u001b[0m\u001b[0m\n\u001b[0;32m      5\u001b[0m \u001b[0mfacec\u001b[0m\u001b[1;33m=\u001b[0m\u001b[0mcv2\u001b[0m\u001b[1;33m.\u001b[0m\u001b[0mCascadeClassifier\u001b[0m\u001b[1;33m(\u001b[0m\u001b[1;34m'haarcascade_frontalface_default.xml'\u001b[0m\u001b[1;33m)\u001b[0m\u001b[1;33m\u001b[0m\u001b[0m\n",
      "\u001b[1;31mModuleNotFoundError\u001b[0m: No module named 'cv2'"
     ]
    }
   ],
   "source": [
    "import numpy as np\n",
    "import cv2\n",
    "\n",
    "cam=cv2.VideoCapture(0)\n",
    "facec=cv2.CascadeClassifier('haarcascade_frontalface_default.xml')\n",
    "\n",
    "data =[]\n",
    "ix=0\n",
    "\n",
    "while True:\n",
    "    ret,fr=cam.read()\n",
    "    if ret == True:\n",
    "        gray= cv2.cvtColor(fr,cv2.COLOR_BGR2GRAY)  #bgr bcz it bydefault loads image in bgr format instead of rgb\n",
    "        faces=facec.detectMultiScale(gray,1.3,5)\n",
    "\n",
    "\n",
    "\n",
    "        \n",
    "        for (x,y,w,h) in faces:\n",
    "            fc=fr[y:y+h,x:x+w,:]  #bcz here rows are on the y axis that's why we use y first then x for image processing\n",
    "            r = cv2.resize(fc,(50,50))  #here x is the no of colums then rows\n",
    "\n",
    "            if ix%10==0 and len(data)<20:\n",
    "                data.append(r)\n",
    "            cv2.rectangle(fr,(x,y),(x+w,y+w),(0,0,255),2)  #image values are of int always bcz of pixel move from 0 to 255\n",
    "        \n",
    "\n",
    "\n",
    "\n",
    "        ix+=1    \n",
    "        cv2.imshow('frame',fr)\n",
    "        if cv2.waitKey(1)==27 or len(data)>=20:\n",
    "            break\n",
    "    else:\n",
    "        print (\"error\")\n",
    "        break\n",
    "    \n",
    "cv2.destroyAllWindows()\n",
    "data=np.asarray(data)\n",
    "print (data.shape)\n",
    "np.save('face06',data)"
   ]
  },
  {
   "cell_type": "code",
   "execution_count": 2,
   "metadata": {},
   "outputs": [
    {
     "ename": "SyntaxError",
     "evalue": "invalid syntax (<ipython-input-2-984988ccd042>, line 1)",
     "output_type": "error",
     "traceback": [
      "\u001b[1;36m  File \u001b[1;32m\"<ipython-input-2-984988ccd042>\"\u001b[1;36m, line \u001b[1;32m1\u001b[0m\n\u001b[1;33m    conda install -c conda-forge opencv\u001b[0m\n\u001b[1;37m                ^\u001b[0m\n\u001b[1;31mSyntaxError\u001b[0m\u001b[1;31m:\u001b[0m invalid syntax\n"
     ]
    }
   ],
   "source": [
    "conda install -c conda-forge opencv"
   ]
  },
  {
   "cell_type": "code",
   "execution_count": null,
   "metadata": {},
   "outputs": [],
   "source": []
  }
 ],
 "metadata": {
  "kernelspec": {
   "display_name": "Python 3",
   "language": "python",
   "name": "python3"
  },
  "language_info": {
   "codemirror_mode": {
    "name": "ipython",
    "version": 3
   },
   "file_extension": ".py",
   "mimetype": "text/x-python",
   "name": "python",
   "nbconvert_exporter": "python",
   "pygments_lexer": "ipython3",
   "version": "3.6.5"
  }
 },
 "nbformat": 4,
 "nbformat_minor": 2
}
